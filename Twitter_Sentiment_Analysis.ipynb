{
 "cells": [
  {
   "cell_type": "markdown",
   "metadata": {},
   "source": [
    "# Twitter Sentiment Analysis"
   ]
  },
  {
   "cell_type": "markdown",
   "metadata": {},
   "source": [
    "### Notebook Imports"
   ]
  },
  {
   "cell_type": "code",
   "execution_count": 67,
   "metadata": {},
   "outputs": [],
   "source": [
    "import pandas as pd\n",
    "import numpy as np\n",
    "\n",
    "import matplotlib.pyplot as plt\n",
    "import seaborn as sn\n",
    "\n",
    "import re\n",
    "import string\n",
    "import contractions\n",
    "import emoji\n",
    "\n",
    "import nltk\n",
    "from nltk.tokenize import word_tokenize\n",
    "from nltk.corpus import stopwords\n",
    "from nltk.stem.snowball import SnowballStemmer\n",
    "\n",
    "from sklearn.feature_extraction.text import CountVectorizer\n",
    "from sklearn.feature_extraction.text import TfidfVectorizer\n",
    "from sklearn.model_selection import train_test_split\n",
    "from sklearn.linear_model import LogisticRegression\n",
    "from sklearn.metrics import accuracy_score\n",
    "from sklearn.metrics import confusion_matrix"
   ]
  },
  {
   "cell_type": "markdown",
   "metadata": {},
   "source": [
    "### Constants"
   ]
  },
  {
   "cell_type": "code",
   "execution_count": 3,
   "metadata": {},
   "outputs": [],
   "source": [
    "file_path = r'tweet_data.csv'"
   ]
  },
  {
   "cell_type": "markdown",
   "metadata": {},
   "source": [
    "### Load the dataset"
   ]
  },
  {
   "cell_type": "code",
   "execution_count": 5,
   "metadata": {},
   "outputs": [],
   "source": [
    "df = pd.read_csv(\"tweet_data.csv\")"
   ]
  },
  {
   "cell_type": "code",
   "execution_count": 6,
   "metadata": {},
   "outputs": [
    {
     "name": "stdout",
     "output_type": "stream",
     "text": [
      "Number of tweets: 18727\n"
     ]
    }
   ],
   "source": [
    "# Total number of tweets\n",
    "print(\"Number of tweets: {}\".format(len(df)))"
   ]
  },
  {
   "cell_type": "code",
   "execution_count": 7,
   "metadata": {},
   "outputs": [
    {
     "data": {
      "text/html": [
       "<div>\n",
       "<style scoped>\n",
       "    .dataframe tbody tr th:only-of-type {\n",
       "        vertical-align: middle;\n",
       "    }\n",
       "\n",
       "    .dataframe tbody tr th {\n",
       "        vertical-align: top;\n",
       "    }\n",
       "\n",
       "    .dataframe thead th {\n",
       "        text-align: right;\n",
       "    }\n",
       "</style>\n",
       "<table border=\"1\" class=\"dataframe\">\n",
       "  <thead>\n",
       "    <tr style=\"text-align: right;\">\n",
       "      <th></th>\n",
       "      <th>textID</th>\n",
       "      <th>tweet_text</th>\n",
       "      <th>sentiment</th>\n",
       "    </tr>\n",
       "  </thead>\n",
       "  <tbody>\n",
       "    <tr>\n",
       "      <th>12195</th>\n",
       "      <td>1695280598</td>\n",
       "      <td>Gmorning   ooh giirll, Mondays</td>\n",
       "      <td>positive</td>\n",
       "    </tr>\n",
       "    <tr>\n",
       "      <th>16785</th>\n",
       "      <td>1753216045</td>\n",
       "      <td>aww thats wikid, i need to book myne again soo...</td>\n",
       "      <td>positive</td>\n",
       "    </tr>\n",
       "    <tr>\n",
       "      <th>17835</th>\n",
       "      <td>1753599602</td>\n",
       "      <td>Right, is too glorious a day to be sat inside....</td>\n",
       "      <td>positive</td>\n",
       "    </tr>\n",
       "    <tr>\n",
       "      <th>10990</th>\n",
       "      <td>1694606280</td>\n",
       "      <td>@Blondie_HK very funny</td>\n",
       "      <td>positive</td>\n",
       "    </tr>\n",
       "    <tr>\n",
       "      <th>8297</th>\n",
       "      <td>1965694268</td>\n",
       "      <td>@LucySiebens I think they are disgusting</td>\n",
       "      <td>negative</td>\n",
       "    </tr>\n",
       "    <tr>\n",
       "      <th>16114</th>\n",
       "      <td>1752895765</td>\n",
       "      <td>@urbanlifepoetry haha. thanks for listening to...</td>\n",
       "      <td>positive</td>\n",
       "    </tr>\n",
       "    <tr>\n",
       "      <th>5590</th>\n",
       "      <td>1963370560</td>\n",
       "      <td>@corylamb i was going tonight, but you never w...</td>\n",
       "      <td>negative</td>\n",
       "    </tr>\n",
       "    <tr>\n",
       "      <th>7963</th>\n",
       "      <td>1965458363</td>\n",
       "      <td>Thankful for last minute doc appointments... B...</td>\n",
       "      <td>positive</td>\n",
       "    </tr>\n",
       "    <tr>\n",
       "      <th>7632</th>\n",
       "      <td>1965256472</td>\n",
       "      <td>@Mitchelmusso: Am sad i got no money on my pho...</td>\n",
       "      <td>negative</td>\n",
       "    </tr>\n",
       "    <tr>\n",
       "      <th>16895</th>\n",
       "      <td>1753254685</td>\n",
       "      <td>second song is coming along nicley</td>\n",
       "      <td>positive</td>\n",
       "    </tr>\n",
       "  </tbody>\n",
       "</table>\n",
       "</div>"
      ],
      "text/plain": [
       "           textID                                         tweet_text sentiment\n",
       "12195  1695280598                     Gmorning   ooh giirll, Mondays  positive\n",
       "16785  1753216045  aww thats wikid, i need to book myne again soo...  positive\n",
       "17835  1753599602  Right, is too glorious a day to be sat inside....  positive\n",
       "10990  1694606280                             @Blondie_HK very funny  positive\n",
       "8297   1965694268           @LucySiebens I think they are disgusting  negative\n",
       "16114  1752895765  @urbanlifepoetry haha. thanks for listening to...  positive\n",
       "5590   1963370560  @corylamb i was going tonight, but you never w...  negative\n",
       "7963   1965458363  Thankful for last minute doc appointments... B...  positive\n",
       "7632   1965256472  @Mitchelmusso: Am sad i got no money on my pho...  negative\n",
       "16895  1753254685                 second song is coming along nicley  positive"
      ]
     },
     "execution_count": 7,
     "metadata": {},
     "output_type": "execute_result"
    }
   ],
   "source": [
    "# Printing sample tweets\n",
    "df.sample(10)"
   ]
  },
  {
   "cell_type": "markdown",
   "metadata": {},
   "source": [
    "### Visualizing the distribution of the dataset"
   ]
  },
  {
   "cell_type": "code",
   "execution_count": 9,
   "metadata": {},
   "outputs": [
    {
     "data": {
      "image/png": "[encoded data removed]",
      "text/plain": [
       "<Figure size 432x288 with 1 Axes>"
      ]
     },
     "metadata": {},
     "output_type": "display_data"
    }
   ],
   "source": [
    "sentiment_count = df[\"sentiment\"].value_counts()\n",
    "plt.pie(sentiment_count, labels=sentiment_count.index,\n",
    "        autopct='%1.1f%%', shadow=True, startangle=140)\n",
    "plt.show()"
   ]
  },
  {
   "cell_type": "code",
   "execution_count": 10,
   "metadata": {},
   "outputs": [
    {
     "name": "stdout",
     "output_type": "stream",
     "text": [
      "Number of + tweets: 9897\n",
      "Number of - tweets: 8830\n"
     ]
    }
   ],
   "source": [
    "# Number of positive and negative tweets\n",
    "print(\"Number of + tweets: {}\".format(df[df[\"sentiment\"]==\"positive\"].count()[0]))\n",
    "print(\"Number of - tweets: {}\".format(df[df[\"sentiment\"]==\"negative\"].count()[0]))"
   ]
  },
  {
   "cell_type": "markdown",
   "metadata": {},
   "source": [
    "### Removing unwanted text"
   ]
  },
  {
   "cell_type": "code",
   "execution_count": 29,
   "metadata": {},
   "outputs": [],
   "source": [
    "def replace_retweet(tweet, default_replace=\"\"):\n",
    "  tweet = re.sub('RT\\s+', default_replace, tweet)\n",
    "  return tweet"
   ]
  },
  {
   "cell_type": "code",
   "execution_count": 13,
   "metadata": {},
   "outputs": [],
   "source": [
    "def replace_user(tweet, default_replace=\"twitteruser\"):\n",
    "  tweet = re.sub('\\B@\\w+', default_replace, tweet)\n",
    "  return tweet"
   ]
  },
  {
   "cell_type": "code",
   "execution_count": 14,
   "metadata": {},
   "outputs": [],
   "source": [
    "def demojize(tweet):\n",
    "  tweet = emoji.demojize(tweet)\n",
    "  return tweet"
   ]
  },
  {
   "cell_type": "code",
   "execution_count": 15,
   "metadata": {},
   "outputs": [],
   "source": [
    "def replace_url(tweet, default_replace=\"\"):\n",
    "  tweet = re.sub('(http|https):\\/\\/\\S+', default_replace, tweet)\n",
    "  return tweet"
   ]
  },
  {
   "cell_type": "code",
   "execution_count": 16,
   "metadata": {},
   "outputs": [],
   "source": [
    "def replace_hashtag(tweet, default_replace=\"\"):\n",
    "  tweet = re.sub('#+', default_replace, tweet)\n",
    "  return tweet"
   ]
  },
  {
   "cell_type": "code",
   "execution_count": 17,
   "metadata": {},
   "outputs": [],
   "source": [
    "def to_lowercase(tweet):\n",
    "  tweet = tweet.lower()\n",
    "  return tweet"
   ]
  },
  {
   "cell_type": "code",
   "execution_count": 18,
   "metadata": {},
   "outputs": [],
   "source": [
    "def word_repetition(tweet):\n",
    "  tweet = re.sub(r'(.)\\1+', r'\\1\\1', tweet)\n",
    "  return tweet"
   ]
  },
  {
   "cell_type": "code",
   "execution_count": 19,
   "metadata": {},
   "outputs": [],
   "source": [
    "def punct_repetition(tweet, default_replace=\"\"):\n",
    "  tweet = re.sub(r'[\\?\\.\\!]+(?=[\\?\\.\\!])', default_replace, tweet)\n",
    "  return tweet"
   ]
  },
  {
   "cell_type": "code",
   "execution_count": 32,
   "metadata": {},
   "outputs": [],
   "source": [
    "def fix_contractions(tweet):\n",
    "  tweet = contractions.fix(tweet)\n",
    "  return tweet"
   ]
  },
  {
   "cell_type": "markdown",
   "metadata": {},
   "source": [
    "### Tokenization"
   ]
  },
  {
   "cell_type": "code",
   "execution_count": 22,
   "metadata": {},
   "outputs": [
    {
     "name": "stderr",
     "output_type": "stream",
     "text": [
      "[nltk_data] Downloading package punkt to C:\\Users\\ONKAR\n",
      "[nltk_data]     JOSHI\\AppData\\Roaming\\nltk_data...\n",
      "[nltk_data]   Package punkt is already up-to-date!\n",
      "[nltk_data] Downloading package stopwords to C:\\Users\\ONKAR\n",
      "[nltk_data]     JOSHI\\AppData\\Roaming\\nltk_data...\n",
      "[nltk_data]   Package stopwords is already up-to-date!\n"
     ]
    },
    {
     "data": {
      "text/plain": [
       "True"
      ]
     },
     "execution_count": 22,
     "metadata": {},
     "output_type": "execute_result"
    }
   ],
   "source": [
    "nltk.download('punkt')\n",
    "nltk.download('stopwords')"
   ]
  },
  {
   "cell_type": "code",
   "execution_count": 24,
   "metadata": {},
   "outputs": [],
   "source": [
    "def custom_tokenize(tweet, keep_punct = False, keep_alnum = False, keep_stop = False):\n",
    "  \n",
    "  token_list = word_tokenize(tweet)\n",
    "\n",
    "  if not keep_punct:\n",
    "    token_list = [token for token in token_list if token not in string.punctuation]\n",
    "\n",
    "  if not keep_alnum:\n",
    "    token_list = [token for token in token_list if token.isalpha()]\n",
    "  \n",
    "  if not keep_stop:\n",
    "    stop_words = set(stopwords.words('english'))\n",
    "    stop_words.discard('not')\n",
    "    token_list = [token for token in token_list if not token in stop_words]\n",
    "\n",
    "  return token_list"
   ]
  },
  {
   "cell_type": "markdown",
   "metadata": {},
   "source": [
    "### Stemming"
   ]
  },
  {
   "cell_type": "code",
   "execution_count": 25,
   "metadata": {},
   "outputs": [],
   "source": [
    "def stem_tokens(tokens, stemmer):\n",
    "  token_list = []\n",
    "  for token in tokens:\n",
    "    token_list.append(stemmer.stem(token))\n",
    "  return token_list"
   ]
  },
  {
   "cell_type": "markdown",
   "metadata": {},
   "source": [
    "### Process_Tweets function"
   ]
  },
  {
   "cell_type": "code",
   "execution_count": 26,
   "metadata": {},
   "outputs": [],
   "source": [
    "def process_tweet(tweet, verbose=False):\n",
    "  if verbose: print(\"Initial tweet: {}\".format(tweet))\n",
    "\n",
    "  ## Twitter Features\n",
    "  tweet = replace_retweet(tweet) # replace retweet\n",
    "  tweet = replace_user(tweet, \"\") # replace user tag\n",
    "  tweet = replace_url(tweet) # replace url\n",
    "  tweet = replace_hashtag(tweet) # replace hashtag\n",
    "  if verbose: print(\"Post Twitter processing tweet: {}\".format(tweet))\n",
    "\n",
    "  ## Word Features\n",
    "  tweet = to_lowercase(tweet) # lower case\n",
    "  tweet = fix_contractions(tweet) # replace contractions\n",
    "  tweet = punct_repetition(tweet) # replace punctuation repetition\n",
    "  tweet = word_repetition(tweet) # replace word repetition\n",
    "  tweet = demojize(tweet) # replace emojis\n",
    "  if verbose: print(\"Post Word processing tweet: {}\".format(tweet))\n",
    "\n",
    "  ## Tokenization & Stemming\n",
    "  tokens = custom_tokenize(tweet, keep_alnum=False, keep_stop=False) # tokenize\n",
    "  stemmer = SnowballStemmer(\"english\") # define stemmer\n",
    "  stem = stem_tokens(tokens, stemmer) # stem tokens\n",
    "\n",
    "  return stem"
   ]
  },
  {
   "cell_type": "markdown",
   "metadata": {},
   "source": [
    "### Testing on a sample tweet"
   ]
  },
  {
   "cell_type": "code",
   "execution_count": 27,
   "metadata": {},
   "outputs": [],
   "source": [
    "# Testing\n",
    "complex_tweet = r\"\"\"RT @Anonymous : he looooook, \n",
    "THis is a big and complex TWeet!!! 👍 ... \n",
    "We'd be glad if you couldn't normalize it! \n",
    "Check https://t.co/7777 and LET ME KNOW!!! #NLP #Fun\"\"\""
   ]
  },
  {
   "cell_type": "code",
   "execution_count": 35,
   "metadata": {},
   "outputs": [
    {
     "name": "stdout",
     "output_type": "stream",
     "text": [
      "['look', 'big', 'complex', 'tweet', 'would', 'glad', 'could', 'not', 'normal', 'check', 'let', 'know', 'nlp', 'fun']\n"
     ]
    }
   ],
   "source": [
    "print(process_tweet(complex_tweet, verbose=False))"
   ]
  },
  {
   "cell_type": "markdown",
   "metadata": {},
   "source": [
    "### Apply process_tweet to the dataset"
   ]
  },
  {
   "cell_type": "code",
   "execution_count": 36,
   "metadata": {},
   "outputs": [
    {
     "data": {
      "text/html": [
       "<div>\n",
       "<style scoped>\n",
       "    .dataframe tbody tr th:only-of-type {\n",
       "        vertical-align: middle;\n",
       "    }\n",
       "\n",
       "    .dataframe tbody tr th {\n",
       "        vertical-align: top;\n",
       "    }\n",
       "\n",
       "    .dataframe thead th {\n",
       "        text-align: right;\n",
       "    }\n",
       "</style>\n",
       "<table border=\"1\" class=\"dataframe\">\n",
       "  <thead>\n",
       "    <tr style=\"text-align: right;\">\n",
       "      <th></th>\n",
       "      <th>textID</th>\n",
       "      <th>tweet_text</th>\n",
       "      <th>sentiment</th>\n",
       "      <th>tokens</th>\n",
       "      <th>tweet_sentiment</th>\n",
       "    </tr>\n",
       "  </thead>\n",
       "  <tbody>\n",
       "    <tr>\n",
       "      <th>0</th>\n",
       "      <td>1956967666</td>\n",
       "      <td>Layin n bed with a headache  ughhhh...waitin o...</td>\n",
       "      <td>negative</td>\n",
       "      <td>[layin, n, bed, headach, call]</td>\n",
       "      <td>0</td>\n",
       "    </tr>\n",
       "    <tr>\n",
       "      <th>1</th>\n",
       "      <td>1956967696</td>\n",
       "      <td>Funeral ceremony...gloomy friday...</td>\n",
       "      <td>negative</td>\n",
       "      <td>[funer, friday]</td>\n",
       "      <td>0</td>\n",
       "    </tr>\n",
       "    <tr>\n",
       "      <th>2</th>\n",
       "      <td>1956967789</td>\n",
       "      <td>wants to hang out with friends SOON!</td>\n",
       "      <td>positive</td>\n",
       "      <td>[want, hang, friend, soon]</td>\n",
       "      <td>1</td>\n",
       "    </tr>\n",
       "    <tr>\n",
       "      <th>3</th>\n",
       "      <td>1956968477</td>\n",
       "      <td>Re-pinging @ghostridah14: why didn't you go to...</td>\n",
       "      <td>negative</td>\n",
       "      <td>[not, go, prom, bf, not, like, friend]</td>\n",
       "      <td>0</td>\n",
       "    </tr>\n",
       "    <tr>\n",
       "      <th>4</th>\n",
       "      <td>1956968636</td>\n",
       "      <td>Hmmm. http://www.djhero.com/ is down</td>\n",
       "      <td>negative</td>\n",
       "      <td>[hmm]</td>\n",
       "      <td>0</td>\n",
       "    </tr>\n",
       "    <tr>\n",
       "      <th>5</th>\n",
       "      <td>1956969035</td>\n",
       "      <td>@charviray Charlene my love. I miss you</td>\n",
       "      <td>negative</td>\n",
       "      <td>[charlen, love, miss]</td>\n",
       "      <td>0</td>\n",
       "    </tr>\n",
       "    <tr>\n",
       "      <th>6</th>\n",
       "      <td>1956969172</td>\n",
       "      <td>@kelcouch I'm sorry  at least it's Friday?</td>\n",
       "      <td>negative</td>\n",
       "      <td>[sorri, least, friday]</td>\n",
       "      <td>0</td>\n",
       "    </tr>\n",
       "    <tr>\n",
       "      <th>7</th>\n",
       "      <td>1956969531</td>\n",
       "      <td>Choked on her retainers</td>\n",
       "      <td>negative</td>\n",
       "      <td>[choke, retain]</td>\n",
       "      <td>0</td>\n",
       "    </tr>\n",
       "    <tr>\n",
       "      <th>8</th>\n",
       "      <td>1956970047</td>\n",
       "      <td>Ugh! I have to beat this stupid song to get to...</td>\n",
       "      <td>negative</td>\n",
       "      <td>[ugh, beat, stupid, song, get, next, rude]</td>\n",
       "      <td>0</td>\n",
       "    </tr>\n",
       "    <tr>\n",
       "      <th>9</th>\n",
       "      <td>1956970424</td>\n",
       "      <td>@BrodyJenner if u watch the hills in london u ...</td>\n",
       "      <td>negative</td>\n",
       "      <td>[watch, hill, london, realis, tourtur, week, w...</td>\n",
       "      <td>0</td>\n",
       "    </tr>\n",
       "  </tbody>\n",
       "</table>\n",
       "</div>"
      ],
      "text/plain": [
       "       textID                                         tweet_text sentiment  \\\n",
       "0  1956967666  Layin n bed with a headache  ughhhh...waitin o...  negative   \n",
       "1  1956967696                Funeral ceremony...gloomy friday...  negative   \n",
       "2  1956967789               wants to hang out with friends SOON!  positive   \n",
       "3  1956968477  Re-pinging @ghostridah14: why didn't you go to...  negative   \n",
       "4  1956968636               Hmmm. http://www.djhero.com/ is down  negative   \n",
       "5  1956969035            @charviray Charlene my love. I miss you  negative   \n",
       "6  1956969172         @kelcouch I'm sorry  at least it's Friday?  negative   \n",
       "7  1956969531                            Choked on her retainers  negative   \n",
       "8  1956970047  Ugh! I have to beat this stupid song to get to...  negative   \n",
       "9  1956970424  @BrodyJenner if u watch the hills in london u ...  negative   \n",
       "\n",
       "                                              tokens  tweet_sentiment  \n",
       "0                     [layin, n, bed, headach, call]                0  \n",
       "1                                    [funer, friday]                0  \n",
       "2                         [want, hang, friend, soon]                1  \n",
       "3             [not, go, prom, bf, not, like, friend]                0  \n",
       "4                                              [hmm]                0  \n",
       "5                              [charlen, love, miss]                0  \n",
       "6                             [sorri, least, friday]                0  \n",
       "7                                    [choke, retain]                0  \n",
       "8         [ugh, beat, stupid, song, get, next, rude]                0  \n",
       "9  [watch, hill, london, realis, tourtur, week, w...                0  "
      ]
     },
     "execution_count": 36,
     "metadata": {},
     "output_type": "execute_result"
    }
   ],
   "source": [
    "df[\"tokens\"] = df[\"tweet_text\"].apply(process_tweet)\n",
    "df[\"tweet_sentiment\"] = df[\"sentiment\"].apply(lambda i: 1 if i == \"positive\" else 0)\n",
    "df.head(10)"
   ]
  },
  {
   "cell_type": "code",
   "execution_count": 37,
   "metadata": {},
   "outputs": [],
   "source": [
    "X = df[\"tokens\"].tolist() # tweet tokens -- predictor\n",
    "y = df[\"tweet_sentiment\"].tolist() # tweet sentiment -- target"
   ]
  },
  {
   "cell_type": "code",
   "execution_count": 39,
   "metadata": {},
   "outputs": [],
   "source": [
    "# print(X)\n",
    "# print(y)"
   ]
  },
  {
   "cell_type": "markdown",
   "metadata": {},
   "source": [
    "### Positive/Negative Frequency"
   ]
  },
  {
   "cell_type": "markdown",
   "metadata": {},
   "source": [
    "#### Function used to create a dictionnary with the word and sentiment as index and the count of occurence as value"
   ]
  },
  {
   "cell_type": "code",
   "execution_count": 40,
   "metadata": {},
   "outputs": [],
   "source": [
    "def build_freqs(tweet_list, sentiment_list):\n",
    "  freqs = {}\n",
    "  for tweet, sentiment in zip(tweet_list, sentiment_list):\n",
    "    for word in tweet:\n",
    "      pair = (word, sentiment)\n",
    "      if pair in freqs:\n",
    "        freqs[pair] += 1\n",
    "      else:\n",
    "        freqs[pair] = 1\n",
    "  return freqs"
   ]
  },
  {
   "cell_type": "code",
   "execution_count": 41,
   "metadata": {},
   "outputs": [],
   "source": [
    "freqs_all = build_freqs(X, y)"
   ]
  },
  {
   "cell_type": "code",
   "execution_count": 42,
   "metadata": {},
   "outputs": [
    {
     "name": "stdout",
     "output_type": "stream",
     "text": [
      "Frequency of word 'love' in + tweets: 1358\n",
      "Frequency of word 'love' in - tweets: 67\n"
     ]
    }
   ],
   "source": [
    "print(\"Frequency of word 'love' in + tweets: {}\".format(freqs_all[(\"love\", 1)]))\n",
    "print(\"Frequency of word 'love' in - tweets: {}\".format(freqs_all[(\"love\", 0)]))"
   ]
  },
  {
   "cell_type": "markdown",
   "metadata": {},
   "source": [
    "#### Function used to convert tweets to a 2-d array by using the frequency dictionnary"
   ]
  },
  {
   "cell_type": "code",
   "execution_count": 59,
   "metadata": {},
   "outputs": [],
   "source": [
    "def tweet_to_freq(tweet, freqs):\n",
    "  x = np.zeros((2,))\n",
    "  for word in tweet:\n",
    "    if (word, 1) in freqs:\n",
    "      x[0] += freqs[(word, 1)]\n",
    "    if (word, 0) in freqs:\n",
    "      x[1] += freqs[(word, 0)]\n",
    "  return x"
   ]
  },
  {
   "cell_type": "markdown",
   "metadata": {},
   "source": [
    "#### Plot word vectors in a chart and see where they locate"
   ]
  },
  {
   "cell_type": "code",
   "execution_count": 54,
   "metadata": {},
   "outputs": [
    {
     "data": {
      "image/png": "[encoded data removed]",
      "text/plain": [
       "<Figure size 576x576 with 1 Axes>"
      ]
     },
     "metadata": {
      "needs_background": "light"
     },
     "output_type": "display_data"
    }
   ],
   "source": [
    "fig, ax = plt.subplots(figsize = (8, 8))\n",
    "\n",
    "word1 = \"happi\" # testing for positive sentiment\n",
    "word2 = \"sad\" # testing for negative sentiment\n",
    "\n",
    "def word_features(word, freqs):\n",
    "  x = np.zeros((2,))\n",
    "  if (word, 1) in freqs:\n",
    "    x[0] = np.log(freqs[(word, 1)] + 1)\n",
    "  if (word, 0) in freqs:\n",
    "    x[1] = np.log(freqs[(word, 0)] + 1)\n",
    "  return x\n",
    "\n",
    "x_axis = [word_features(word, freqs_all)[0] for word in [word1, word2]]\n",
    "y_axis = [word_features(word, freqs_all)[1] for word in [word1, word2]]\n",
    "\n",
    "ax.scatter(x_axis, y_axis)  \n",
    "\n",
    "plt.xlabel(\"Log Positive count\")\n",
    "plt.ylabel(\"Log Negative count\")\n",
    "\n",
    "ax.plot([0, 9], [0, 9], color = 'red')\n",
    "plt.text(x_axis[0], y_axis[0], word1)\n",
    "plt.text(x_axis[1], y_axis[1], word2)\n",
    "plt.show()"
   ]
  },
  {
   "cell_type": "markdown",
   "metadata": {},
   "source": []
  },
  {
   "cell_type": "markdown",
   "metadata": {},
   "source": []
  },
  {
   "cell_type": "markdown",
   "metadata": {},
   "source": [
    "### Helper Function to plot Confusion matrix"
   ]
  },
  {
   "cell_type": "code",
   "execution_count": 48,
   "metadata": {},
   "outputs": [],
   "source": [
    "def plot_confusion(cm):\n",
    "  plt.figure(figsize = (5,5))\n",
    "  sn.heatmap(cm, annot=True, cmap=\"Blues\", fmt='.0f')\n",
    "  plt.xlabel(\"Prediction\")\n",
    "  plt.ylabel(\"True value\")\n",
    "  plt.title(\"Confusion Matrix\")\n",
    "  return sn"
   ]
  },
  {
   "cell_type": "code",
   "execution_count": 50,
   "metadata": {},
   "outputs": [],
   "source": [
    "X_train, X_test, y_train, y_test = train_test_split(X, y, random_state=0, train_size=0.80)"
   ]
  },
  {
   "cell_type": "code",
   "execution_count": 51,
   "metadata": {},
   "outputs": [
    {
     "name": "stdout",
     "output_type": "stream",
     "text": [
      "Size of X_train: 14981\n",
      "Size of y_train: 14981\n",
      "\n",
      "\n",
      "Size of X_test: 3746\n",
      "Size of y_test: 3746\n",
      "\n",
      "\n",
      "Train proportion: 80%\n"
     ]
    }
   ],
   "source": [
    "print(\"Size of X_train: {}\".format(len(X_train)))\n",
    "print(\"Size of y_train: {}\".format(len(y_train)))\n",
    "print(\"\\n\")\n",
    "print(\"Size of X_test: {}\".format(len(X_test)))\n",
    "print(\"Size of y_test: {}\".format(len(y_test)))\n",
    "print(\"\\n\")\n",
    "print(\"Train proportion: {:.0%}\".format(len(X_train)/(len(X_train)+len(X_test))))"
   ]
  },
  {
   "cell_type": "markdown",
   "metadata": {},
   "source": [
    "#### Function used to build the Bag-of-Words vectorizer with the corpus"
   ]
  },
  {
   "cell_type": "code",
   "execution_count": 55,
   "metadata": {},
   "outputs": [],
   "source": [
    "def fit_cv(tweet_corpus):\n",
    "  cv_vect = CountVectorizer(tokenizer=lambda x: x,\n",
    "                            preprocessor=lambda x: x)\n",
    "  cv_vect.fit(tweet_corpus)\n",
    "  return cv_vect"
   ]
  },
  {
   "cell_type": "markdown",
   "metadata": {},
   "source": [
    "#### Function used to build the TF-IDF vectorizer with the corpus"
   ]
  },
  {
   "cell_type": "code",
   "execution_count": 56,
   "metadata": {},
   "outputs": [],
   "source": [
    "def fit_tfidf(tweet_corpus):\n",
    "  tf_vect = TfidfVectorizer(preprocessor=lambda x: x,\n",
    "                            tokenizer=lambda x: x)\n",
    "  tf_vect.fit(tweet_corpus)\n",
    "  return tf_vect"
   ]
  },
  {
   "cell_type": "markdown",
   "metadata": {},
   "source": [
    "### Logistic Regression"
   ]
  },
  {
   "cell_type": "code",
   "execution_count": 53,
   "metadata": {},
   "outputs": [],
   "source": [
    "def fit_lr(X_train, y_train):\n",
    "  model = LogisticRegression()\n",
    "  model.fit(X_train, y_train)\n",
    "  return model"
   ]
  },
  {
   "cell_type": "code",
   "execution_count": 60,
   "metadata": {},
   "outputs": [],
   "source": [
    "freqs = build_freqs(X_train, y_train)\n",
    "X_train_pn = [tweet_to_freq(tweet, freqs) for tweet in X_train]\n",
    "X_test_pn = [tweet_to_freq(tweet, freqs) for tweet in X_test]"
   ]
  },
  {
   "cell_type": "code",
   "execution_count": 61,
   "metadata": {},
   "outputs": [
    {
     "name": "stdout",
     "output_type": "stream",
     "text": [
      "[[ 0.00264615 -0.00194929]] [-0.55956082]\n"
     ]
    }
   ],
   "source": [
    "model_lr_pn = fit_lr(X_train_pn, y_train)\n",
    "print(model_lr_pn.coef_, model_lr_pn.intercept_)"
   ]
  },
  {
   "cell_type": "code",
   "execution_count": 63,
   "metadata": {},
   "outputs": [
    {
     "name": "stderr",
     "output_type": "stream",
     "text": [
      "c:\\Users\\ONKAR JOSHI\\AppData\\Local\\Programs\\Python\\Python39\\lib\\site-packages\\sklearn\\feature_extraction\\text.py:524: UserWarning: The parameter 'token_pattern' will not be used since 'tokenizer' is not None'\n",
      "  warnings.warn(\n"
     ]
    }
   ],
   "source": [
    "cv = fit_cv(X_train)\n",
    "X_train_cv = cv.transform(X_train)\n",
    "X_test_cv = cv.transform(X_test)"
   ]
  },
  {
   "cell_type": "code",
   "execution_count": 64,
   "metadata": {},
   "outputs": [],
   "source": [
    "model_lr_cv = fit_lr(X_train_cv, y_train)"
   ]
  },
  {
   "cell_type": "code",
   "execution_count": 65,
   "metadata": {},
   "outputs": [
    {
     "name": "stderr",
     "output_type": "stream",
     "text": [
      "c:\\Users\\ONKAR JOSHI\\AppData\\Local\\Programs\\Python\\Python39\\lib\\site-packages\\sklearn\\feature_extraction\\text.py:524: UserWarning: The parameter 'token_pattern' will not be used since 'tokenizer' is not None'\n",
      "  warnings.warn(\n"
     ]
    }
   ],
   "source": [
    "tf = fit_tfidf(X_train)\n",
    "X_train_tf = tf.transform(X_train)\n",
    "X_test_tf = tf.transform(X_test)"
   ]
  },
  {
   "cell_type": "code",
   "execution_count": 66,
   "metadata": {},
   "outputs": [],
   "source": [
    "model_lr_tf = fit_lr(X_train_tf, y_train)"
   ]
  },
  {
   "cell_type": "markdown",
   "metadata": {},
   "source": [
    "### Performance Metrics"
   ]
  },
  {
   "cell_type": "code",
   "execution_count": 68,
   "metadata": {},
   "outputs": [],
   "source": [
    "y_pred_lr_pn = model_lr_pn.predict(X_test_pn)"
   ]
  },
  {
   "cell_type": "code",
   "execution_count": 69,
   "metadata": {},
   "outputs": [
    {
     "name": "stdout",
     "output_type": "stream",
     "text": [
      "LR Model Accuracy: 77.92%\n"
     ]
    }
   ],
   "source": [
    "print(\"LR Model Accuracy: {:.2%}\".format(accuracy_score(y_test, y_pred_lr_pn)))"
   ]
  },
  {
   "cell_type": "code",
   "execution_count": 70,
   "metadata": {},
   "outputs": [
    {
     "data": {
      "text/plain": [
       "<module 'seaborn' from 'c:\\\\Users\\\\ONKAR JOSHI\\\\AppData\\\\Local\\\\Programs\\\\Python\\\\Python39\\\\lib\\\\site-packages\\\\seaborn\\\\__init__.py'>"
      ]
     },
     "execution_count": 70,
     "metadata": {},
     "output_type": "execute_result"
    },
    {
     "data": {
      "image/png": "[encoded data removed]",
      "text/plain": [
       "<Figure size 360x360 with 2 Axes>"
      ]
     },
     "metadata": {
      "needs_background": "light"
     },
     "output_type": "display_data"
    }
   ],
   "source": [
    "plot_confusion(confusion_matrix(y_test, y_pred_lr_pn))"
   ]
  },
  {
   "cell_type": "code",
   "execution_count": null,
   "metadata": {},
   "outputs": [],
   "source": []
  },
  {
   "cell_type": "markdown",
   "metadata": {},
   "source": []
  },
  {
   "cell_type": "code",
   "execution_count": 72,
   "metadata": {},
   "outputs": [],
   "source": [
    "y_pred_lr_cv = model_lr_cv.predict(X_test_cv)"
   ]
  },
  {
   "cell_type": "code",
   "execution_count": 73,
   "metadata": {},
   "outputs": [
    {
     "name": "stdout",
     "output_type": "stream",
     "text": [
      "LR Model Accuracy: 88.52%\n"
     ]
    }
   ],
   "source": [
    "print(\"LR Model Accuracy: {:.2%}\".format(accuracy_score(y_test, y_pred_lr_cv)))"
   ]
  },
  {
   "cell_type": "code",
   "execution_count": 74,
   "metadata": {},
   "outputs": [
    {
     "data": {
      "text/plain": [
       "<module 'seaborn' from 'c:\\\\Users\\\\ONKAR JOSHI\\\\AppData\\\\Local\\\\Programs\\\\Python\\\\Python39\\\\lib\\\\site-packages\\\\seaborn\\\\__init__.py'>"
      ]
     },
     "execution_count": 74,
     "metadata": {},
     "output_type": "execute_result"
    },
    {
     "data": {
      "image/png": "[encoded data removed]",
      "text/plain": [
       "<Figure size 360x360 with 2 Axes>"
      ]
     },
     "metadata": {
      "needs_background": "light"
     },
     "output_type": "display_data"
    }
   ],
   "source": [
    "plot_confusion(confusion_matrix(y_test, y_pred_lr_cv))"
   ]
  },
  {
   "cell_type": "code",
   "execution_count": null,
   "metadata": {},
   "outputs": [],
   "source": []
  },
  {
   "cell_type": "markdown",
   "metadata": {},
   "source": []
  },
  {
   "cell_type": "code",
   "execution_count": 75,
   "metadata": {},
   "outputs": [],
   "source": [
    "y_pred_lr_tf = model_lr_tf.predict(X_test_tf)"
   ]
  },
  {
   "cell_type": "code",
   "execution_count": 76,
   "metadata": {},
   "outputs": [
    {
     "name": "stdout",
     "output_type": "stream",
     "text": [
      "LR Model Accuracy: 88.65%\n"
     ]
    }
   ],
   "source": [
    "print(\"LR Model Accuracy: {:.2%}\".format(accuracy_score(y_test, y_pred_lr_tf)))"
   ]
  },
  {
   "cell_type": "code",
   "execution_count": 77,
   "metadata": {},
   "outputs": [
    {
     "data": {
      "text/plain": [
       "<module 'seaborn' from 'c:\\\\Users\\\\ONKAR JOSHI\\\\AppData\\\\Local\\\\Programs\\\\Python\\\\Python39\\\\lib\\\\site-packages\\\\seaborn\\\\__init__.py'>"
      ]
     },
     "execution_count": 77,
     "metadata": {},
     "output_type": "execute_result"
    },
    {
     "data": {
      "image/png": "[encoded data removed]",
      "text/plain": [
       "<Figure size 360x360 with 2 Axes>"
      ]
     },
     "metadata": {
      "needs_background": "light"
     },
     "output_type": "display_data"
    }
   ],
   "source": [
    "plot_confusion(confusion_matrix(y_test, y_pred_lr_tf))"
   ]
  },
  {
   "cell_type": "code",
   "execution_count": null,
   "metadata": {},
   "outputs": [],
   "source": []
  },
  {
   "cell_type": "markdown",
   "metadata": {},
   "source": [
    "### Pipeline"
   ]
  },
  {
   "cell_type": "markdown",
   "metadata": {},
   "source": [
    "#### Function used to pre-process, transform and predict tweet sentiment"
   ]
  },
  {
   "cell_type": "code",
   "execution_count": 78,
   "metadata": {},
   "outputs": [],
   "source": [
    "def predict_tweet(tweet):\n",
    "  processed_tweet = process_tweet(tweet)\n",
    "  transformed_tweet = tf.transform([processed_tweet])\n",
    "  prediction = model_lr_tf.predict(transformed_tweet)\n",
    "\n",
    "  if prediction == 1:\n",
    "    return \"Prediction is positive sentiment\"\n",
    "  else:\n",
    "    return \"Prediction is negative sentiment\""
   ]
  },
  {
   "cell_type": "code",
   "execution_count": null,
   "metadata": {},
   "outputs": [],
   "source": []
  }
 ],
 "metadata": {
  "kernelspec": {
   "display_name": "Python 3.9.5 64-bit",
   "language": "python",
   "name": "python3"
  },
  "language_info": {
   "codemirror_mode": {
    "name": "ipython",
    "version": 3
   },
   "file_extension": ".py",
   "mimetype": "text/x-python",
   "name": "python",
   "nbconvert_exporter": "python",
   "pygments_lexer": "ipython3",
   "version": "3.9.5"
  },
  "orig_nbformat": 4,
  "vscode": {
   "interpreter": {
    "hash": "43a0071f508d0201474254b38086ae9590cf447b1da519613c9d4bbbbf240a9f"
   }
  }
 },
 "nbformat": 4,
 "nbformat_minor": 2
}
